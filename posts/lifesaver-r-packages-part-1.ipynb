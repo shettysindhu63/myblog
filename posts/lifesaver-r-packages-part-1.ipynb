{
 "cells": [
  {
   "cell_type": "markdown",
   "metadata": {
    "deletable": true,
    "editable": true
   },
   "source": [
    "This is the first of a series of tutorials on useful R packges which I call the lifesaver R packages. If you want to run the tutorials on jupyter notebook, you can find the notebooks at [lifesaver-R-packages](https://github.com/shettysindhu63/lifesaver-R-packages). \n",
    "\n",
    "Today we will be exploring the titanic dataset with two of my favourite libraries, **ggplot2** and **dplyr**. For more details about the dataset, visit the [Kaggle site](https://www.kaggle.com/c/titanic)."
   ]
  },
  {
   "cell_type": "markdown",
   "metadata": {
    "deletable": true,
    "editable": true
   },
   "source": [
    "### The Packages \n",
    "\n",
    "- The **dplyr** package provides functions for easy and fast data manipulation. You can review the [dplyr vignette](https://cran.rstudio.com/web/packages/dplyr/vignettes/introduction.html) for a comprehensive introduction to **dplyr** verbs. \n",
    "\n",
    "\n",
    "- **ggplot2** is a graphing package implemented in R based on the [Grammar of Graphics](http://www.springer.com/gp/book/9780387245447). In the grammar of graphics system, the graphic/plot is made up of several layers : data, aesthetics, geometries, facets, statistics, coordinates and theme. A compact intro can be read [here](https://codewords.recurse.com/issues/six/telling-stories-with-data-using-the-grammar-of-graphics). \n",
	"<!-- TEASER_END -->"
   ]
  },
  {
   "cell_type": "markdown",
   "metadata": {
    "deletable": true,
    "editable": true
   },
   "source": [
    "### Get the data\n",
    "\n",
    "The first step is to import the required packages and the datasets. \n",
    "Along with **ggplot2** and **dplyr**, we will also use **magrittr** which lets us use the pipe operation that makes the code more readable and concise. "
   ]
  },
  {
   "cell_type": "code",
   "execution_count": 23,
   "metadata": {
    "collapsed": false,
    "deletable": true,
    "editable": true
   },
   "outputs": [],
   "source": [
    "# load packages \n",
    "library(ggplot2)\n",
    "library(dplyr)\n",
    "library(magrittr)"
   ]
  },
  {
   "cell_type": "code",
   "execution_count": 3,
   "metadata": {
    "collapsed": false,
    "deletable": true,
    "editable": true
   },
   "outputs": [
    {
     "data": {
      "text/html": [
       "<dl class=dl-horizontal>\n",
       "\t<dt>PassengerId</dt>\n",
       "\t\t<dd>0</dd>\n",
       "\t<dt>Survived</dt>\n",
       "\t\t<dd>0</dd>\n",
       "\t<dt>Pclass</dt>\n",
       "\t\t<dd>0</dd>\n",
       "\t<dt>Name</dt>\n",
       "\t\t<dd>0</dd>\n",
       "\t<dt>Sex</dt>\n",
       "\t\t<dd>0</dd>\n",
       "\t<dt>Age</dt>\n",
       "\t\t<dd>177</dd>\n",
       "\t<dt>SibSp</dt>\n",
       "\t\t<dd>0</dd>\n",
       "\t<dt>Parch</dt>\n",
       "\t\t<dd>0</dd>\n",
       "\t<dt>Ticket</dt>\n",
       "\t\t<dd>0</dd>\n",
       "\t<dt>Fare</dt>\n",
       "\t\t<dd>0</dd>\n",
       "\t<dt>Cabin</dt>\n",
       "\t\t<dd>0</dd>\n",
       "\t<dt>Embarked</dt>\n",
       "\t\t<dd>0</dd>\n",
       "</dl>\n"
      ],
      "text/latex": [
       "\\begin{description*}\n",
       "\\item[PassengerId] 0\n",
       "\\item[Survived] 0\n",
       "\\item[Pclass] 0\n",
       "\\item[Name] 0\n",
       "\\item[Sex] 0\n",
       "\\item[Age] 177\n",
       "\\item[SibSp] 0\n",
       "\\item[Parch] 0\n",
       "\\item[Ticket] 0\n",
       "\\item[Fare] 0\n",
       "\\item[Cabin] 0\n",
       "\\item[Embarked] 0\n",
       "\\end{description*}\n"
      ],
      "text/markdown": [
       "PassengerId\n",
       ":   0Survived\n",
       ":   0Pclass\n",
       ":   0Name\n",
       ":   0Sex\n",
       ":   0Age\n",
       ":   177SibSp\n",
       ":   0Parch\n",
       ":   0Ticket\n",
       ":   0Fare\n",
       ":   0Cabin\n",
       ":   0Embarked\n",
       ":   0\n",
       "\n"
      ],
      "text/plain": [
       "PassengerId    Survived      Pclass        Name         Sex         Age \n",
       "          0           0           0           0           0         177 \n",
       "      SibSp       Parch      Ticket        Fare       Cabin    Embarked \n",
       "          0           0           0           0           0           0 "
      ]
     },
     "metadata": {},
     "output_type": "display_data"
    }
   ],
   "source": [
    "# load data\n",
    "dataset = read.csv('data/titanic/train.csv')\n",
    "\n",
    "# check for missing values \n",
    "dataset %>% \n",
    "    sapply(function(y) sum(is.na(y)))"
   ]
  },
  {
   "cell_type": "markdown",
   "metadata": {
    "deletable": true,
    "editable": true
   },
   "source": [
    "We see that the value for column Age is missing in 177 observations. There are several ways to handle missing values: you could omit them completely or impute the missing values with mean, median or some other statistic of all other values in that partcular column. In this case, I do not want to presume anything about the ages of the passengers, so I will exclude the missing observations completely from further analysis which includes the Age feature.\n",
    "\n",
    "Let's look at the first few rows of the dataset while we decide what we might want to explore. "
   ]
  },
  {
   "cell_type": "code",
   "execution_count": 4,
   "metadata": {
    "collapsed": false,
    "deletable": true,
    "editable": true
   },
   "outputs": [
    {
     "data": {
      "text/html": [
       "<table>\n",
       "<thead><tr><th scope=col>PassengerId</th><th scope=col>Survived</th><th scope=col>Pclass</th><th scope=col>Name</th><th scope=col>Sex</th><th scope=col>Age</th><th scope=col>SibSp</th><th scope=col>Parch</th><th scope=col>Ticket</th><th scope=col>Fare</th><th scope=col>Cabin</th><th scope=col>Embarked</th></tr></thead>\n",
       "<tbody>\n",
       "\t<tr><td>1                                                  </td><td>0                                                  </td><td>3                                                  </td><td>Braund, Mr. Owen Harris                            </td><td>male                                               </td><td>22                                                 </td><td>1                                                  </td><td>0                                                  </td><td>A/5 21171                                          </td><td> 7.2500                                            </td><td>                                                   </td><td>S                                                  </td></tr>\n",
       "\t<tr><td>2                                                  </td><td>1                                                  </td><td>1                                                  </td><td>Cumings, Mrs. John Bradley (Florence Briggs Thayer)</td><td>female                                             </td><td>38                                                 </td><td>1                                                  </td><td>0                                                  </td><td>PC 17599                                           </td><td>71.2833                                            </td><td>C85                                                </td><td>C                                                  </td></tr>\n",
       "\t<tr><td>3                                                  </td><td>1                                                  </td><td>3                                                  </td><td>Heikkinen, Miss. Laina                             </td><td>female                                             </td><td>26                                                 </td><td>0                                                  </td><td>0                                                  </td><td>STON/O2. 3101282                                   </td><td> 7.9250                                            </td><td>                                                   </td><td>S                                                  </td></tr>\n",
       "\t<tr><td>4                                                  </td><td>1                                                  </td><td>1                                                  </td><td>Futrelle, Mrs. Jacques Heath (Lily May Peel)       </td><td>female                                             </td><td>35                                                 </td><td>1                                                  </td><td>0                                                  </td><td>113803                                             </td><td>53.1000                                            </td><td>C123                                               </td><td>S                                                  </td></tr>\n",
       "\t<tr><td>5                                                  </td><td>0                                                  </td><td>3                                                  </td><td>Allen, Mr. William Henry                           </td><td>male                                               </td><td>35                                                 </td><td>0                                                  </td><td>0                                                  </td><td>373450                                             </td><td> 8.0500                                            </td><td>                                                   </td><td>S                                                  </td></tr>\n",
       "\t<tr><td>6                                                  </td><td>0                                                  </td><td>3                                                  </td><td>Moran, Mr. James                                   </td><td>male                                               </td><td>NA                                                 </td><td>0                                                  </td><td>0                                                  </td><td>330877                                             </td><td> 8.4583                                            </td><td>                                                   </td><td>Q                                                  </td></tr>\n",
       "</tbody>\n",
       "</table>\n"
      ],
      "text/latex": [
       "\\begin{tabular}{r|llllllllllll}\n",
       " PassengerId & Survived & Pclass & Name & Sex & Age & SibSp & Parch & Ticket & Fare & Cabin & Embarked\\\\\n",
       "\\hline\n",
       "\t 1                                                   & 0                                                   & 3                                                   & Braund, Mr. Owen Harris                             & male                                                & 22                                                  & 1                                                   & 0                                                   & A/5 21171                                           &  7.2500                                             &                                                     & S                                                  \\\\\n",
       "\t 2                                                   & 1                                                   & 1                                                   & Cumings, Mrs. John Bradley (Florence Briggs Thayer) & female                                              & 38                                                  & 1                                                   & 0                                                   & PC 17599                                            & 71.2833                                             & C85                                                 & C                                                  \\\\\n",
       "\t 3                                                   & 1                                                   & 3                                                   & Heikkinen, Miss. Laina                              & female                                              & 26                                                  & 0                                                   & 0                                                   & STON/O2. 3101282                                    &  7.9250                                             &                                                     & S                                                  \\\\\n",
       "\t 4                                                   & 1                                                   & 1                                                   & Futrelle, Mrs. Jacques Heath (Lily May Peel)        & female                                              & 35                                                  & 1                                                   & 0                                                   & 113803                                              & 53.1000                                             & C123                                                & S                                                  \\\\\n",
       "\t 5                                                   & 0                                                   & 3                                                   & Allen, Mr. William Henry                            & male                                                & 35                                                  & 0                                                   & 0                                                   & 373450                                              &  8.0500                                             &                                                     & S                                                  \\\\\n",
       "\t 6                                                   & 0                                                   & 3                                                   & Moran, Mr. James                                    & male                                                & NA                                                  & 0                                                   & 0                                                   & 330877                                              &  8.4583                                             &                                                     & Q                                                  \\\\\n",
       "\\end{tabular}\n"
      ],
      "text/plain": [
       "  PassengerId Survived Pclass\n",
       "1 1           0        3     \n",
       "2 2           1        1     \n",
       "3 3           1        3     \n",
       "4 4           1        1     \n",
       "5 5           0        3     \n",
       "6 6           0        3     \n",
       "  Name                                                Sex    Age SibSp Parch\n",
       "1 Braund, Mr. Owen Harris                             male   22  1     0    \n",
       "2 Cumings, Mrs. John Bradley (Florence Briggs Thayer) female 38  1     0    \n",
       "3 Heikkinen, Miss. Laina                              female 26  0     0    \n",
       "4 Futrelle, Mrs. Jacques Heath (Lily May Peel)        female 35  1     0    \n",
       "5 Allen, Mr. William Henry                            male   35  0     0    \n",
       "6 Moran, Mr. James                                    male   NA  0     0    \n",
       "  Ticket           Fare    Cabin Embarked\n",
       "1 A/5 21171         7.2500       S       \n",
       "2 PC 17599         71.2833 C85   C       \n",
       "3 STON/O2. 3101282  7.9250       S       \n",
       "4 113803           53.1000 C123  S       \n",
       "5 373450            8.0500       S       \n",
       "6 330877            8.4583       Q       "
      ]
     },
     "metadata": {},
     "output_type": "display_data"
    }
   ],
   "source": [
    "# print first six rows of the dataset\n",
    "head(dataset)"
   ]
  },
  {
   "cell_type": "markdown",
   "metadata": {
    "deletable": true,
    "editable": true
   },
   "source": [
    "I suggest looking into the [data overview](https://www.kaggle.com/c/titanic/data) provided by Kaggle to check what each of the columns represent. Some columns are obviously not relevant to whether the passenger survived or not, like PassengerID, Name, Ticket number. Out of the others, let us select a few columns first to start simple : consider only ticket class (Pclass), sex, age and port of embarkation (Embarked).  "
   ]
  },
  {
   "cell_type": "code",
   "execution_count": 5,
   "metadata": {
    "collapsed": true,
    "deletable": true,
    "editable": true
   },
   "outputs": [],
   "source": [
    "# select only required columns \n",
    "dataset = select(dataset, Survived, Pclass, Sex, Age, Embarked)"
   ]
  },
  {
   "cell_type": "markdown",
   "metadata": {
    "deletable": true,
    "editable": true
   },
   "source": [
    "### Summarize the data \n",
    "\n",
    "Next, we may want to see the survival rate for different groups. This is where **dplyr** and **magrittr** together shine, you'll see how easy it is to write the *split-apply-combine* strategy. "
   ]
  },
  {
   "cell_type": "code",
   "execution_count": 6,
   "metadata": {
    "collapsed": false,
    "deletable": true,
    "editable": true
   },
   "outputs": [
    {
     "data": {
      "text/html": [
       "<table>\n",
       "<thead><tr><th scope=col>Sex</th><th scope=col>Total</th><th scope=col>Survived</th><th scope=col>Rate</th></tr></thead>\n",
       "<tbody>\n",
       "\t<tr><td>female</td><td>314   </td><td>233   </td><td>74.20 </td></tr>\n",
       "\t<tr><td>male  </td><td>577   </td><td>109   </td><td>18.89 </td></tr>\n",
       "</tbody>\n",
       "</table>\n"
      ],
      "text/latex": [
       "\\begin{tabular}{r|llll}\n",
       " Sex & Total & Survived & Rate\\\\\n",
       "\\hline\n",
       "\t female & 314    & 233    & 74.20 \\\\\n",
       "\t male   & 577    & 109    & 18.89 \\\\\n",
       "\\end{tabular}\n"
      ],
      "text/plain": [
       "  Sex    Total Survived Rate \n",
       "1 female 314   233      74.20\n",
       "2 male   577   109      18.89"
      ]
     },
     "metadata": {},
     "output_type": "display_data"
    }
   ],
   "source": [
    "# Check the survival rate for different genders \n",
    "dataset %>%\n",
    "    group_by(Sex) %>%\n",
    "    summarize(Total = length(Sex), Survived  = sum(Survived), Rate = round((Survived/Total)*100,2))"
   ]
  },
  {
   "cell_type": "code",
   "execution_count": 7,
   "metadata": {
    "collapsed": false,
    "deletable": true,
    "editable": true
   },
   "outputs": [
    {
     "data": {
      "text/html": [
       "<table>\n",
       "<thead><tr><th scope=col>Pclass</th><th scope=col>Total</th><th scope=col>Survived</th><th scope=col>Rate</th></tr></thead>\n",
       "<tbody>\n",
       "\t<tr><td>1    </td><td>216  </td><td>136  </td><td>62.96</td></tr>\n",
       "\t<tr><td>2    </td><td>184  </td><td> 87  </td><td>47.28</td></tr>\n",
       "\t<tr><td>3    </td><td>491  </td><td>119  </td><td>24.24</td></tr>\n",
       "</tbody>\n",
       "</table>\n"
      ],
      "text/latex": [
       "\\begin{tabular}{r|llll}\n",
       " Pclass & Total & Survived & Rate\\\\\n",
       "\\hline\n",
       "\t 1     & 216   & 136   & 62.96\\\\\n",
       "\t 2     & 184   &  87   & 47.28\\\\\n",
       "\t 3     & 491   & 119   & 24.24\\\\\n",
       "\\end{tabular}\n"
      ],
      "text/plain": [
       "  Pclass Total Survived Rate \n",
       "1 1      216   136      62.96\n",
       "2 2      184    87      47.28\n",
       "3 3      491   119      24.24"
      ]
     },
     "metadata": {},
     "output_type": "display_data"
    }
   ],
   "source": [
    "# Check the survival rate for different classes \n",
    "dataset %>%\n",
    "    group_by(Pclass) %>%\n",
    "    summarize(Total = length(Pclass), Survived  = sum(Survived), Rate = round((Survived/Total)*100,2))"
   ]
  },
  {
   "cell_type": "code",
   "execution_count": 8,
   "metadata": {
    "collapsed": false,
    "deletable": true,
    "editable": true
   },
   "outputs": [
    {
     "data": {
      "text/html": [
       "<table>\n",
       "<thead><tr><th scope=col>Sex</th><th scope=col>Pclass</th><th scope=col>Total</th><th scope=col>Survived</th><th scope=col>Rate</th></tr></thead>\n",
       "<tbody>\n",
       "\t<tr><td>female</td><td>1     </td><td> 94   </td><td>91    </td><td>96.81 </td></tr>\n",
       "\t<tr><td>female</td><td>2     </td><td> 76   </td><td>70    </td><td>92.11 </td></tr>\n",
       "\t<tr><td>female</td><td>3     </td><td>144   </td><td>72    </td><td>50.00 </td></tr>\n",
       "\t<tr><td>male  </td><td>1     </td><td>122   </td><td>45    </td><td>36.89 </td></tr>\n",
       "\t<tr><td>male  </td><td>2     </td><td>108   </td><td>17    </td><td>15.74 </td></tr>\n",
       "\t<tr><td>male  </td><td>3     </td><td>347   </td><td>47    </td><td>13.54 </td></tr>\n",
       "</tbody>\n",
       "</table>\n"
      ],
      "text/latex": [
       "\\begin{tabular}{r|lllll}\n",
       " Sex & Pclass & Total & Survived & Rate\\\\\n",
       "\\hline\n",
       "\t female & 1      &  94    & 91     & 96.81 \\\\\n",
       "\t female & 2      &  76    & 70     & 92.11 \\\\\n",
       "\t female & 3      & 144    & 72     & 50.00 \\\\\n",
       "\t male   & 1      & 122    & 45     & 36.89 \\\\\n",
       "\t male   & 2      & 108    & 17     & 15.74 \\\\\n",
       "\t male   & 3      & 347    & 47     & 13.54 \\\\\n",
       "\\end{tabular}\n"
      ],
      "text/plain": [
       "  Sex    Pclass Total Survived Rate \n",
       "1 female 1       94   91       96.81\n",
       "2 female 2       76   70       92.11\n",
       "3 female 3      144   72       50.00\n",
       "4 male   1      122   45       36.89\n",
       "5 male   2      108   17       15.74\n",
       "6 male   3      347   47       13.54"
      ]
     },
     "metadata": {},
     "output_type": "display_data"
    }
   ],
   "source": [
    "# Check the survival rate by grouping Sex and Pclass\n",
    "dataset %>%\n",
    "    group_by(Sex, Pclass) %>%\n",
    "    summarize(Total = length(Pclass), Survived  = sum(Survived), Rate = round((Survived/Total)*100,2))"
   ]
  },
  {
   "cell_type": "markdown",
   "metadata": {
    "deletable": true,
    "editable": true
   },
   "source": [
    "###  Visualize the data \n",
    "\n",
    "As the tables get bigger, it will become difficult to interpret the numbers. This is where exploratory graphs can help us understand the data better. I have indicated the specific layers of grammar of graphics in the comments to improve the interpretation of ggplot2 code. "
   ]
  },
  {
   "cell_type": "code",
   "execution_count": 15,
   "metadata": {
    "collapsed": false,
    "deletable": true,
    "editable": true
   },
   "outputs": [
    {
     "data": {
      "image/png": "[encoded data removed]",
      "text/plain": [
       "plot without title"
      ]
     },
     "metadata": {},
     "output_type": "display_data"
    }
   ],
   "source": [
    "options(repr.plot.width=10, repr.plot.height=4)\n",
    "# visualising the survival rate for sex and Pclass groups \n",
    "g = ggplot(data = dataset, aes(Sex, fill = factor(Survived))) # data and aesthetics \n",
    "g = g + geom_bar()          # geometries\n",
    "g = g + facet_grid(~Pclass) # facets \n",
    "g = g + theme_bw()          # theme  \n",
    "print(g)"
   ]
  },
  {
   "cell_type": "code",
   "execution_count": 24,
   "metadata": {
    "collapsed": false
   },
   "outputs": [
    {
     "name": "stderr",
     "output_type": "stream",
     "text": [
      "Warning message:\n",
      "\"Removed 30 rows containing non-finite values (stat_ydensity).\"Warning message:\n",
      "\"Removed 11 rows containing non-finite values (stat_ydensity).\"Warning message:\n",
      "\"Removed 136 rows containing non-finite values (stat_ydensity).\""
     ]
    },
    {
     "data": {
      "image/png": "[encoded data removed]",
      "text/plain": [
       "plot without title"
      ]
     },
     "metadata": {},
     "output_type": "display_data"
    }
   ],
   "source": [
    "# visualising the survival rate with respect to Sex, Pclass and Age features \n",
    "g = ggplot(data = dataset, aes(x = Sex, y = Age, fill = factor(Survived))) # data and aesthetics \n",
    "g = g + geom_violin()          # geometries\n",
    "g = g + facet_grid(~Pclass) # facets \n",
    "g = g + theme_bw()          # theme  \n",
    "print(g)"
   ]
  },
  {
   "cell_type": "markdown",
   "metadata": {},
   "source": [
    "This was a rudimentary intro to **ggplot2** and **dplyr** packages. More information can be found in the references. "
   ]
  },
  {
   "cell_type": "markdown",
   "metadata": {
    "collapsed": true,
    "deletable": true,
    "editable": true
   },
   "source": [
    "### References \n",
    "\n",
    "1. [dplyr CRAN vignette](https://cran.rstudio.com/web/packages/dplyr/vignettes/introduction.html)\n",
    "2. [magrittr CRAN vignette](https://cran.r-project.org/web/packages/magrittr/vignettes/magrittr.html)\n",
    "3. [tidyverse ggplot2 reference](http://ggplot2.tidyverse.org/reference/)\n",
    "4. [Telling stories with data using the grammar of graphics](https://codewords.recurse.com/issues/six/telling-stories-with-data-using-the-grammar-of-graphics), Liz Sander, Code Words - Issue Six"
   ]
  }
 ],
 "metadata": {
  "anaconda-cloud": {},
  "kernelspec": {
   "display_name": "R",
   "language": "R",
   "name": "ir"
  },
  "nikola": {
   "category": "",
   "date": "2017-05-30 21:36:02 UTC+08:00",
   "description": "",
   "link": "",
   "slug": "lifesaver-r-packages-part-1",
   "tags": "R, data science, tutorial",
   "title": "Lifesaver R packages - Part 1",
   "type": "text"
  }
 },
 "nbformat": 4,
 "nbformat_minor": 2
}
