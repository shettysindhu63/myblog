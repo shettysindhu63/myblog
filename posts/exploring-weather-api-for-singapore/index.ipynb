{
 "cells": [
  {
   "cell_type": "markdown",
   "metadata": {
    "deletable": true,
    "editable": true
   },
   "source": [
    "In Singapore, various environmental and weather data are provided by NEA through the data.gov.sg [developers portal](https://developers.data.gov.sg/). You can sign up and request for an API key by creating a new entry in Apps section.\n",
    "\n",
    "\n",
    "For the weather forecasts and environmental data, the *date* parameter retreives all the forecasts issued for the day. The *date_time* parameter retreives the latest forecast issued as of that time. \n",
    "\n",
    "In this notebook, a brief tutorial is provided on how to access the available data. I have also included the reference provided by the website for each API endpoint. ",
    "<!-- TEASER_END -->"
   ]
  },
  {
   "cell_type": "code",
   "execution_count": 3,
   "metadata": {
    "collapsed": false,
    "deletable": true,
    "editable": true
   },
   "outputs": [],
   "source": [
    "# Read the api key\n",
    "key = open(\"data-key.txt\").read()\n",
    "\n",
    "# import library \n",
    "import requests"
   ]
  },
  {
   "cell_type": "markdown",
   "metadata": {
    "deletable": true,
    "editable": true
   },
   "source": [
    "** 2 hour weather forecast ** \n",
    "\n",
    "The latest 2-hour weather forecast is retreived half-hourly. Use date_time parameter to retreive the latest forecast issued at that moment in time or use the date parameter to retreive all the forecasts issued for that day. "
   ]
  },
  {
   "cell_type": "code",
   "execution_count": 4,
   "metadata": {
    "collapsed": false,
    "deletable": true,
    "editable": true
   },
   "outputs": [],
   "source": [
    "two_hour_cast = requests.get(\n",
    "                'https://api.data.gov.sg/v1/environment/2-hour-weather-forecast',\n",
    "                 params = {\"date_time\": \"2017-04-12T16:00:00\"},\n",
    "                 headers = {\"api-key\":key}).json()"
   ]
  },
  {
   "cell_type": "code",
   "execution_count": 4,
   "metadata": {
    "collapsed": false,
    "deletable": true,
    "editable": true
   },
   "outputs": [
    {
     "name": "stdout",
     "output_type": "stream",
     "text": [
      "Forecast for Clementi region, next two hours : \n",
      "Cloudy\n"
     ]
    }
   ],
   "source": [
    "# forecast for area : Clementi \n",
    "clementi_location_id = 11\n",
    "print('Forecast for Clementi region, next two hours : ')\n",
    "print(two_hour_cast['items'][0]['forecasts'][11]['forecast'])"
   ]
  },
  {
   "cell_type": "markdown",
   "metadata": {
    "deletable": true,
    "editable": true
   },
   "source": [
    "** 24 hour weather forecast **\n",
    "\n",
    "The latest 24-hour forecast retreived multiple times throughout the day. Use date_time parameter to retreive the latest forecast issued at that moment in time or use the date parameter to retreive all the forecasts issued for that day. \n",
    "This provides the forecast only for major regions (i.e central, east, west, north, south)"
   ]
  },
  {
   "cell_type": "code",
   "execution_count": 5,
   "metadata": {
    "collapsed": true,
    "deletable": true,
    "editable": true
   },
   "outputs": [],
   "source": [
    "# get the latest forecast issued \n",
    "daily_forecast = requests.get(\n",
    "                'https://api.data.gov.sg/v1/environment/24-hour-weather-forecast',\n",
    "                 params = {\"date_time\": \"2017-04-12T16:00:00\"},\n",
    "                 headers = {\"api-key\":key}).json()"
   ]
  },
  {
   "cell_type": "code",
   "execution_count": 6,
   "metadata": {
    "collapsed": false,
    "deletable": true,
    "editable": true
   },
   "outputs": [
    {
     "name": "stdout",
     "output_type": "stream",
     "text": [
      "Forecast for west region: Showers\n",
      "Time period: 2017-04-12T12:00:00+08:00 to 2017-04-12T18:00:00+08:00\n",
      "\n",
      "Forecast for west region: Partly Cloudy (Night)\n",
      "Time period: 2017-04-12T18:00:00+08:00 to 2017-04-13T06:00:00+08:00\n",
      "\n",
      "Forecast for west region: Cloudy\n",
      "Time period: 2017-04-13T06:00:00+08:00 to 2017-04-13T12:00:00+08:00\n",
      "\n"
     ]
    }
   ],
   "source": [
    "# getting the latest forecast for west region for the valid future time periods\n",
    "periods_list = daily_forecast['items'][0]['periods']\n",
    "\n",
    "for i in range(0, len(periods_list)):\n",
    "    print(\"Forecast for west region: \" + periods_list[i]['regions']['west'])\n",
    "    print(\"Time period: \"+ periods_list[i]['time']['start'] + \" to \" + periods_list[i]['time']['end'])\n",
    "    print()"
   ]
  },
  {
   "cell_type": "markdown",
   "metadata": {
    "deletable": true,
    "editable": true
   },
   "source": [
    "** Air temperature **\n",
    "\n",
    "Get per-minute readings of air temperature across Singapore. "
   ]
  },
  {
   "cell_type": "code",
   "execution_count": 6,
   "metadata": {
    "collapsed": true,
    "deletable": true,
    "editable": true
   },
   "outputs": [],
   "source": [
    "# Using the date_time parameter \n",
    "# the latest temperature reading as of this time specified in date_time \n",
    "air_temperature_now = requests.get(\n",
    "                'https://api.data.gov.sg/v1/environment/air-temperature',\n",
    "                 params = {\"date_time\": \"2017-04-12T16:00:00\"},\n",
    "                 headers = {\"api-key\":key}).json()"
   ]
  },
  {
   "cell_type": "markdown",
   "metadata": {
    "deletable": true,
    "editable": true
   },
   "source": [
    "#### Finding the closest weather station to your location"
   ]
  },
  {
   "cell_type": "code",
   "execution_count": 7,
   "metadata": {
    "collapsed": true,
    "deletable": true,
    "editable": true
   },
   "outputs": [],
   "source": [
    "# Use Haversine formula for getting distance between two locations \n",
    "# implementation from https://rosettacode.org/wiki/Haversine_formula#Python\n",
    "from math import radians, sin, cos, sqrt, asin\n",
    " \n",
    "def haversine(lat1, lon1, lat2, lon2):\n",
    " \n",
    "    R = 6372.8 # Earth radius in kilometers\n",
    "    dLat = radians(lat2 - lat1)\n",
    "    dLon = radians(lon2 - lon1)\n",
    "    lat1 = radians(lat1)\n",
    "    lat2 = radians(lat2)\n",
    "\n",
    "    a = sin(dLat/2)**2 + cos(lat1)*cos(lat2)*sin(dLon/2)**2\n",
    "    c = 2*asin(sqrt(a))\n",
    "\n",
    "    return R * c"
   ]
  },
  {
   "cell_type": "code",
   "execution_count": 8,
   "metadata": {
    "collapsed": false,
    "deletable": true,
    "editable": true
   },
   "outputs": [],
   "source": [
    "# Find the closest station to our current location \n",
    "our_location = [1.298666, 103.772451]\n",
    "\n",
    "station_name = []\n",
    "station_id = []\n",
    "distance = []\n",
    "\n",
    "# find the distance between our locations to the station locations \n",
    "for x in air_temperature_now['metadata']['stations']:\n",
    "    station_name.append(x['name'])\n",
    "    station_id.append(x['id'])\n",
    "    \n",
    "    latitude = x['location']['latitude']\n",
    "    longitude = x['location']['longitude']\n",
    "    \n",
    "    distance.append( haversine(latitude, longitude, our_location[0], our_location[1]) )"
   ]
  },
  {
   "cell_type": "code",
   "execution_count": 11,
   "metadata": {
    "collapsed": false,
    "deletable": true,
    "editable": true
   },
   "outputs": [
    {
     "data": {
      "image/png": "[encoded data removed]",
      "text/plain": [
       "<matplotlib.figure.Figure at 0x8a27860>"
      ]
     },
     "metadata": {},
     "output_type": "display_data"
    }
   ],
   "source": [
    "# plotting the distances of weather stations from our location\n",
    "import pylab\n",
    "\n",
    "pylab.figure(1)\n",
    "x = range(len(air_temperature_now['metadata']['stations']))\n",
    "pylab.xticks(x, station_id)\n",
    "pylab.plot(x, distance ,\"go\")\n",
    "\n",
    "pylab.show()"
   ]
  },
  {
   "cell_type": "code",
   "execution_count": 10,
   "metadata": {
    "collapsed": false,
    "deletable": true,
    "editable": true
   },
   "outputs": [
    {
     "name": "stdout",
     "output_type": "stream",
     "text": [
      "Station Name : West Coast Highway\n",
      "Station ID : S116\n"
     ]
    }
   ],
   "source": [
    "# finding the nearest station \n",
    "min_dist = distance.index(min(distance))\n",
    "print('Station Name : ' + station_name[min_dist]) \n",
    "print('Station ID : ' + station_id[min_dist]) "
   ]
  },
  {
   "cell_type": "code",
   "execution_count": 10,
   "metadata": {
    "collapsed": false,
    "deletable": true,
    "editable": true,
    "scrolled": true
   },
   "outputs": [
    {
     "name": "stdout",
     "output_type": "stream",
     "text": [
      "2017-04-12T15:59:59+08:00\n",
      "{'station_id': 'S50', 'value': 30.4}\n"
     ]
    }
   ],
   "source": [
    "# clementi road location id \n",
    "location_id = 2\n",
    "\n",
    "# get the station id for the Clementi Road weather station \n",
    "station_id = air_temperature_now['metadata']['stations'][location_id]['id']\n",
    "\n",
    "# get the air temperature reading for the particular station id\n",
    "print(air_temperature_now['items'][0]['timestamp'])\n",
    "print(air_temperature_now['items'][0]['readings'][location_id])"
   ]
  },
  {
   "cell_type": "markdown",
   "metadata": {},
   "source": [
    "The data for the whole day can be requested but in my experience, this doesn't work consistently and sometimes throws errors. "
   ]
  },
  {
   "cell_type": "code",
   "execution_count": 11,
   "metadata": {
    "collapsed": true,
    "deletable": true,
    "editable": true
   },
   "outputs": [],
   "source": [
    "# Using the date parameter, temperature readings for the whole day\n",
    "air_temperature = requests.get(\n",
    "                'https://api.data.gov.sg/v1/environment/air-temperature',\n",
    "                 params = {\"date\": \"2016-04-12\"},\n",
    "                 headers = {\"api-key\":key}).json()"
   ]
  },
  {
   "cell_type": "markdown",
   "metadata": {
    "deletable": true,
    "editable": true
   },
   "source": [
    "** Rainfall **\n",
    "\n",
    "Get 5-minute readings of rainfall across Singapore. This is similar to air-temperature readings but there are many more stations. "
   ]
  },
  {
   "cell_type": "code",
   "execution_count": 12,
   "metadata": {
    "collapsed": true,
    "deletable": true,
    "editable": true
   },
   "outputs": [],
   "source": [
    "# get the latest rainfall using date_time parameter \n",
    "rainfall_now = requests.get(\n",
    "                'https://api.data.gov.sg/v1/environment/rainfall',\n",
    "                 params = {\"date_time\": \"2017-04-12T16:00:00\"},\n",
    "                 headers = {\"api-key\":key}).json()"
   ]
  },
  {
   "cell_type": "code",
   "execution_count": 13,
   "metadata": {
    "collapsed": false,
    "deletable": true,
    "editable": true
   },
   "outputs": [
    {
     "name": "stdout",
     "output_type": "stream",
     "text": [
      "Timestamp : 2017-04-12T15:59:59+08:00\n"
     ]
    },
    {
     "data": {
      "text/plain": [
       "{'station_id': 'S50', 'value': 0}"
      ]
     },
     "execution_count": 13,
     "metadata": {},
     "output_type": "execute_result"
    }
   ],
   "source": [
    "# get the timestamp\n",
    "print(\"Timestamp : \" + rainfall_now['items'][0]['timestamp'])\n",
    "\n",
    "# location and rainfall value \n",
    "location_id_rainfall_station = 9\n",
    "rainfall_now['items'][0]['readings'][location_id_rainfall_station]"
   ]
  },
  {
   "cell_type": "markdown",
   "metadata": {},
   "source": [
    "I hope this helps you get started in case you need this data for your own projects. This post is inspired by [Li Haoyi - Open Data](https://github.com/lihaoyi/opendata) which explores the transport data available in Singapore."
   ]
  }
 ],
 "metadata": {
  "anaconda-cloud": {},
  "kernelspec": {
   "display_name": "Python [Root]",
   "language": "python",
   "name": "Python [Root]"
  },
  "language_info": {
   "codemirror_mode": {
    "name": "ipython",
    "version": 3
   },
   "file_extension": ".py",
   "mimetype": "text/x-python",
   "name": "python",
   "nbconvert_exporter": "python",
   "pygments_lexer": "ipython3",
   "version": "3.5.2"
  },
  "nikola": {
   "category": "",
   "date": "2017-07-11 01:17:54 UTC+08:00",
   "description": "",
   "link": "",
   "slug": "exploring-weather-api-for-singapore",
   "tags": "Python, data science, tutorial",
   "title": "Exploring Weather API for Singapore",
   "type": "text"
  }
 },
 "nbformat": 4,
 "nbformat_minor": 2
}
